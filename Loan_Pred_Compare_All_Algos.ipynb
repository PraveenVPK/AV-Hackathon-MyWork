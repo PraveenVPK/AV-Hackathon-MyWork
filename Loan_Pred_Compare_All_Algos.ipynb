{
 "cells": [
  {
   "cell_type": "code",
   "execution_count": 1,
   "metadata": {
    "collapsed": true
   },
   "outputs": [],
   "source": [
    "import pandas as pd\n",
    "import numpy as np\n",
    "import matplotlib\n",
    "%matplotlib inline"
   ]
  },
  {
   "cell_type": "code",
   "execution_count": 2,
   "metadata": {
    "collapsed": true
   },
   "outputs": [],
   "source": [
    "train = pd.read_csv(\"train_u6lujuX_CVtuZ9i.csv\")\n",
    "test = pd.read_csv(\"test_Y3wMUE5_7gLdaTN.csv\")\n",
    "sample_submit = pd.read_csv(\"Sample_Submission_ZAuTl8O_FK3zQHh.csv\")"
   ]
  },
  {
   "cell_type": "code",
   "execution_count": 4,
   "metadata": {
    "scrolled": false
   },
   "outputs": [
    {
     "data": {
      "text/plain": [
       "(614, 13)"
      ]
     },
     "execution_count": 4,
     "metadata": {},
     "output_type": "execute_result"
    }
   ],
   "source": [
    "train.shape"
   ]
  },
  {
   "cell_type": "code",
   "execution_count": 4,
   "metadata": {
    "scrolled": true
   },
   "outputs": [
    {
     "data": {
      "text/plain": [
       "Loan_ID               0\n",
       "Gender               13\n",
       "Married               3\n",
       "Dependents           15\n",
       "Education             0\n",
       "Self_Employed        32\n",
       "ApplicantIncome       0\n",
       "CoapplicantIncome     0\n",
       "LoanAmount           22\n",
       "Loan_Amount_Term     14\n",
       "Credit_History       50\n",
       "Property_Area         0\n",
       "Loan_Status           0\n",
       "dtype: int64"
      ]
     },
     "execution_count": 4,
     "metadata": {},
     "output_type": "execute_result"
    }
   ],
   "source": [
    "train.isnull().sum()"
   ]
  },
  {
   "cell_type": "code",
   "execution_count": 5,
   "metadata": {
    "scrolled": false
   },
   "outputs": [
    {
     "data": {
      "text/plain": [
       "Loan_ID               0\n",
       "Gender               11\n",
       "Married               0\n",
       "Dependents           10\n",
       "Education             0\n",
       "Self_Employed        23\n",
       "ApplicantIncome       0\n",
       "CoapplicantIncome     0\n",
       "LoanAmount            5\n",
       "Loan_Amount_Term      6\n",
       "Credit_History       29\n",
       "Property_Area         0\n",
       "dtype: int64"
      ]
     },
     "execution_count": 5,
     "metadata": {},
     "output_type": "execute_result"
    }
   ],
   "source": [
    "test.isnull().sum()"
   ]
  },
  {
   "cell_type": "code",
   "execution_count": 6,
   "metadata": {
    "collapsed": true
   },
   "outputs": [],
   "source": [
    "train[\"source\"] = 'train'\n",
    "test[\"source\"] = 'test'"
   ]
  },
  {
   "cell_type": "code",
   "execution_count": 7,
   "metadata": {
    "scrolled": false
   },
   "outputs": [
    {
     "name": "stdout",
     "output_type": "stream",
     "text": [
      "train size : (614, 14)\n",
      "test size : (367, 13)\n"
     ]
    }
   ],
   "source": [
    "print(\"train size :\",train.shape)\n",
    "print(\"test size :\",test.shape)"
   ]
  },
  {
   "cell_type": "code",
   "execution_count": 8,
   "metadata": {
    "collapsed": true
   },
   "outputs": [],
   "source": [
    "dataf = pd.concat([train,test],axis=0)"
   ]
  },
  {
   "cell_type": "code",
   "execution_count": 9,
   "metadata": {
    "scrolled": true
   },
   "outputs": [
    {
     "data": {
      "text/plain": [
       "ApplicantIncome        0\n",
       "CoapplicantIncome      0\n",
       "Credit_History        79\n",
       "Dependents            25\n",
       "Education              0\n",
       "Gender                24\n",
       "LoanAmount            27\n",
       "Loan_Amount_Term      20\n",
       "Loan_ID                0\n",
       "Loan_Status          367\n",
       "Married                3\n",
       "Property_Area          0\n",
       "Self_Employed         55\n",
       "source                 0\n",
       "dtype: int64"
      ]
     },
     "execution_count": 9,
     "metadata": {},
     "output_type": "execute_result"
    }
   ],
   "source": [
    "dataf.isnull().sum()"
   ]
  },
  {
   "cell_type": "code",
   "execution_count": 10,
   "metadata": {},
   "outputs": [
    {
     "name": "stdout",
     "output_type": "stream",
     "text": [
      "<class 'pandas.core.frame.DataFrame'>\n",
      "Int64Index: 981 entries, 0 to 366\n",
      "Data columns (total 14 columns):\n",
      "ApplicantIncome      981 non-null int64\n",
      "CoapplicantIncome    981 non-null float64\n",
      "Credit_History       902 non-null float64\n",
      "Dependents           956 non-null object\n",
      "Education            981 non-null object\n",
      "Gender               957 non-null object\n",
      "LoanAmount           954 non-null float64\n",
      "Loan_Amount_Term     961 non-null float64\n",
      "Loan_ID              981 non-null object\n",
      "Loan_Status          614 non-null object\n",
      "Married              978 non-null object\n",
      "Property_Area        981 non-null object\n",
      "Self_Employed        926 non-null object\n",
      "source               981 non-null object\n",
      "dtypes: float64(4), int64(1), object(9)\n",
      "memory usage: 115.0+ KB\n"
     ]
    }
   ],
   "source": [
    "dataf.info()"
   ]
  },
  {
   "cell_type": "code",
   "execution_count": 11,
   "metadata": {
    "scrolled": false
   },
   "outputs": [
    {
     "data": {
      "text/html": [
       "<div>\n",
       "<style>\n",
       "    .dataframe thead tr:only-child th {\n",
       "        text-align: right;\n",
       "    }\n",
       "\n",
       "    .dataframe thead th {\n",
       "        text-align: left;\n",
       "    }\n",
       "\n",
       "    .dataframe tbody tr th {\n",
       "        vertical-align: top;\n",
       "    }\n",
       "</style>\n",
       "<table border=\"1\" class=\"dataframe\">\n",
       "  <thead>\n",
       "    <tr style=\"text-align: right;\">\n",
       "      <th></th>\n",
       "      <th>ApplicantIncome</th>\n",
       "      <th>CoapplicantIncome</th>\n",
       "      <th>Credit_History</th>\n",
       "      <th>LoanAmount</th>\n",
       "      <th>Loan_Amount_Term</th>\n",
       "    </tr>\n",
       "  </thead>\n",
       "  <tbody>\n",
       "    <tr>\n",
       "      <th>count</th>\n",
       "      <td>981.000000</td>\n",
       "      <td>981.000000</td>\n",
       "      <td>902.000000</td>\n",
       "      <td>954.000000</td>\n",
       "      <td>961.000000</td>\n",
       "    </tr>\n",
       "    <tr>\n",
       "      <th>mean</th>\n",
       "      <td>5179.795107</td>\n",
       "      <td>1601.916330</td>\n",
       "      <td>0.835920</td>\n",
       "      <td>142.511530</td>\n",
       "      <td>342.201873</td>\n",
       "    </tr>\n",
       "    <tr>\n",
       "      <th>std</th>\n",
       "      <td>5695.104533</td>\n",
       "      <td>2718.772806</td>\n",
       "      <td>0.370553</td>\n",
       "      <td>77.421743</td>\n",
       "      <td>65.100602</td>\n",
       "    </tr>\n",
       "    <tr>\n",
       "      <th>min</th>\n",
       "      <td>0.000000</td>\n",
       "      <td>0.000000</td>\n",
       "      <td>0.000000</td>\n",
       "      <td>9.000000</td>\n",
       "      <td>6.000000</td>\n",
       "    </tr>\n",
       "    <tr>\n",
       "      <th>25%</th>\n",
       "      <td>2875.000000</td>\n",
       "      <td>0.000000</td>\n",
       "      <td>1.000000</td>\n",
       "      <td>100.000000</td>\n",
       "      <td>360.000000</td>\n",
       "    </tr>\n",
       "    <tr>\n",
       "      <th>50%</th>\n",
       "      <td>3800.000000</td>\n",
       "      <td>1110.000000</td>\n",
       "      <td>1.000000</td>\n",
       "      <td>126.000000</td>\n",
       "      <td>360.000000</td>\n",
       "    </tr>\n",
       "    <tr>\n",
       "      <th>75%</th>\n",
       "      <td>5516.000000</td>\n",
       "      <td>2365.000000</td>\n",
       "      <td>1.000000</td>\n",
       "      <td>162.000000</td>\n",
       "      <td>360.000000</td>\n",
       "    </tr>\n",
       "    <tr>\n",
       "      <th>max</th>\n",
       "      <td>81000.000000</td>\n",
       "      <td>41667.000000</td>\n",
       "      <td>1.000000</td>\n",
       "      <td>700.000000</td>\n",
       "      <td>480.000000</td>\n",
       "    </tr>\n",
       "  </tbody>\n",
       "</table>\n",
       "</div>"
      ],
      "text/plain": [
       "       ApplicantIncome  CoapplicantIncome  Credit_History  LoanAmount  \\\n",
       "count       981.000000         981.000000      902.000000  954.000000   \n",
       "mean       5179.795107        1601.916330        0.835920  142.511530   \n",
       "std        5695.104533        2718.772806        0.370553   77.421743   \n",
       "min           0.000000           0.000000        0.000000    9.000000   \n",
       "25%        2875.000000           0.000000        1.000000  100.000000   \n",
       "50%        3800.000000        1110.000000        1.000000  126.000000   \n",
       "75%        5516.000000        2365.000000        1.000000  162.000000   \n",
       "max       81000.000000       41667.000000        1.000000  700.000000   \n",
       "\n",
       "       Loan_Amount_Term  \n",
       "count        961.000000  \n",
       "mean         342.201873  \n",
       "std           65.100602  \n",
       "min            6.000000  \n",
       "25%          360.000000  \n",
       "50%          360.000000  \n",
       "75%          360.000000  \n",
       "max          480.000000  "
      ]
     },
     "execution_count": 11,
     "metadata": {},
     "output_type": "execute_result"
    }
   ],
   "source": [
    "dataf.describe()"
   ]
  },
  {
   "cell_type": "code",
   "execution_count": 12,
   "metadata": {},
   "outputs": [
    {
     "data": {
      "text/html": [
       "<div>\n",
       "<style>\n",
       "    .dataframe thead tr:only-child th {\n",
       "        text-align: right;\n",
       "    }\n",
       "\n",
       "    .dataframe thead th {\n",
       "        text-align: left;\n",
       "    }\n",
       "\n",
       "    .dataframe tbody tr th {\n",
       "        vertical-align: top;\n",
       "    }\n",
       "</style>\n",
       "<table border=\"1\" class=\"dataframe\">\n",
       "  <thead>\n",
       "    <tr style=\"text-align: right;\">\n",
       "      <th></th>\n",
       "      <th>ApplicantIncome</th>\n",
       "      <th>CoapplicantIncome</th>\n",
       "      <th>Credit_History</th>\n",
       "      <th>Dependents</th>\n",
       "      <th>Education</th>\n",
       "      <th>Gender</th>\n",
       "      <th>LoanAmount</th>\n",
       "      <th>Loan_Amount_Term</th>\n",
       "      <th>Loan_ID</th>\n",
       "      <th>Loan_Status</th>\n",
       "      <th>Married</th>\n",
       "      <th>Property_Area</th>\n",
       "      <th>Self_Employed</th>\n",
       "      <th>source</th>\n",
       "    </tr>\n",
       "  </thead>\n",
       "  <tbody>\n",
       "    <tr>\n",
       "      <th>0</th>\n",
       "      <td>5849</td>\n",
       "      <td>0.0</td>\n",
       "      <td>1.0</td>\n",
       "      <td>0</td>\n",
       "      <td>Graduate</td>\n",
       "      <td>Male</td>\n",
       "      <td>NaN</td>\n",
       "      <td>360.0</td>\n",
       "      <td>LP001002</td>\n",
       "      <td>Y</td>\n",
       "      <td>No</td>\n",
       "      <td>Urban</td>\n",
       "      <td>No</td>\n",
       "      <td>train</td>\n",
       "    </tr>\n",
       "    <tr>\n",
       "      <th>1</th>\n",
       "      <td>4583</td>\n",
       "      <td>1508.0</td>\n",
       "      <td>1.0</td>\n",
       "      <td>1</td>\n",
       "      <td>Graduate</td>\n",
       "      <td>Male</td>\n",
       "      <td>128.0</td>\n",
       "      <td>360.0</td>\n",
       "      <td>LP001003</td>\n",
       "      <td>N</td>\n",
       "      <td>Yes</td>\n",
       "      <td>Rural</td>\n",
       "      <td>No</td>\n",
       "      <td>train</td>\n",
       "    </tr>\n",
       "    <tr>\n",
       "      <th>2</th>\n",
       "      <td>3000</td>\n",
       "      <td>0.0</td>\n",
       "      <td>1.0</td>\n",
       "      <td>0</td>\n",
       "      <td>Graduate</td>\n",
       "      <td>Male</td>\n",
       "      <td>66.0</td>\n",
       "      <td>360.0</td>\n",
       "      <td>LP001005</td>\n",
       "      <td>Y</td>\n",
       "      <td>Yes</td>\n",
       "      <td>Urban</td>\n",
       "      <td>Yes</td>\n",
       "      <td>train</td>\n",
       "    </tr>\n",
       "    <tr>\n",
       "      <th>3</th>\n",
       "      <td>2583</td>\n",
       "      <td>2358.0</td>\n",
       "      <td>1.0</td>\n",
       "      <td>0</td>\n",
       "      <td>Not Graduate</td>\n",
       "      <td>Male</td>\n",
       "      <td>120.0</td>\n",
       "      <td>360.0</td>\n",
       "      <td>LP001006</td>\n",
       "      <td>Y</td>\n",
       "      <td>Yes</td>\n",
       "      <td>Urban</td>\n",
       "      <td>No</td>\n",
       "      <td>train</td>\n",
       "    </tr>\n",
       "    <tr>\n",
       "      <th>4</th>\n",
       "      <td>6000</td>\n",
       "      <td>0.0</td>\n",
       "      <td>1.0</td>\n",
       "      <td>0</td>\n",
       "      <td>Graduate</td>\n",
       "      <td>Male</td>\n",
       "      <td>141.0</td>\n",
       "      <td>360.0</td>\n",
       "      <td>LP001008</td>\n",
       "      <td>Y</td>\n",
       "      <td>No</td>\n",
       "      <td>Urban</td>\n",
       "      <td>No</td>\n",
       "      <td>train</td>\n",
       "    </tr>\n",
       "  </tbody>\n",
       "</table>\n",
       "</div>"
      ],
      "text/plain": [
       "   ApplicantIncome  CoapplicantIncome  Credit_History Dependents  \\\n",
       "0             5849                0.0             1.0          0   \n",
       "1             4583             1508.0             1.0          1   \n",
       "2             3000                0.0             1.0          0   \n",
       "3             2583             2358.0             1.0          0   \n",
       "4             6000                0.0             1.0          0   \n",
       "\n",
       "      Education Gender  LoanAmount  Loan_Amount_Term   Loan_ID Loan_Status  \\\n",
       "0      Graduate   Male         NaN             360.0  LP001002           Y   \n",
       "1      Graduate   Male       128.0             360.0  LP001003           N   \n",
       "2      Graduate   Male        66.0             360.0  LP001005           Y   \n",
       "3  Not Graduate   Male       120.0             360.0  LP001006           Y   \n",
       "4      Graduate   Male       141.0             360.0  LP001008           Y   \n",
       "\n",
       "  Married Property_Area Self_Employed source  \n",
       "0      No         Urban            No  train  \n",
       "1     Yes         Rural            No  train  \n",
       "2     Yes         Urban           Yes  train  \n",
       "3     Yes         Urban            No  train  \n",
       "4      No         Urban            No  train  "
      ]
     },
     "execution_count": 12,
     "metadata": {},
     "output_type": "execute_result"
    }
   ],
   "source": [
    "dataf.head()"
   ]
  },
  {
   "cell_type": "code",
   "execution_count": 13,
   "metadata": {
    "scrolled": true
   },
   "outputs": [
    {
     "data": {
      "text/plain": [
       "(981, 14)"
      ]
     },
     "execution_count": 13,
     "metadata": {},
     "output_type": "execute_result"
    }
   ],
   "source": [
    "dataf.shape"
   ]
  },
  {
   "cell_type": "code",
   "execution_count": 14,
   "metadata": {
    "collapsed": true
   },
   "outputs": [],
   "source": [
    "dataf['Gender'] = dataf['Gender'].fillna( dataf['Gender'].mode().values[0] )\n",
    "dataf['Married'] = dataf['Married'].fillna( dataf['Married'].mode().values[0] )\n",
    "dataf['Dependents'] = dataf['Dependents'].fillna( dataf['Dependents'].mode().values[0] )\n",
    "dataf['Self_Employed'] = dataf['Self_Employed'].fillna( dataf['Self_Employed'].mode().values[0] )\n",
    "dataf['LoanAmount'] = dataf['LoanAmount'].fillna( dataf['LoanAmount'].mean() )\n",
    "dataf['Loan_Amount_Term'] = dataf['Loan_Amount_Term'].fillna( dataf['Loan_Amount_Term'].mode().values[0] )\n",
    "dataf['Credit_History'] = dataf['Credit_History'].fillna( dataf['Credit_History'].mode().values[0] )\n",
    "dataf['Dependents'] = dataf['Dependents'].str.rstrip('+')\n",
    "dataf['Gender'] = dataf['Gender'].map({'Female':0,'Male':1}).astype(np.float)\n",
    "dataf['Married'] = dataf['Married'].map({'No':0, 'Yes':1}).astype(np.float)\n",
    "dataf['Education'] = dataf['Education'].map({'Not Graduate':0, 'Graduate':1}).astype(np.float)\n",
    "dataf['Self_Employed'] = dataf['Self_Employed'].map({'No':0, 'Yes':1}).astype(np.float)\n",
    "dataf['Dependents'] = dataf['Dependents'].astype(np.float)\n",
    "dataf['Loan_Status'] = dataf['Loan_Status'].fillna( dataf['Loan_Status'].mode().values[0] )"
   ]
  },
  {
   "cell_type": "code",
   "execution_count": 15,
   "metadata": {
    "scrolled": true
   },
   "outputs": [
    {
     "data": {
      "text/html": [
       "<div>\n",
       "<style>\n",
       "    .dataframe thead tr:only-child th {\n",
       "        text-align: right;\n",
       "    }\n",
       "\n",
       "    .dataframe thead th {\n",
       "        text-align: left;\n",
       "    }\n",
       "\n",
       "    .dataframe tbody tr th {\n",
       "        vertical-align: top;\n",
       "    }\n",
       "</style>\n",
       "<table border=\"1\" class=\"dataframe\">\n",
       "  <thead>\n",
       "    <tr style=\"text-align: right;\">\n",
       "      <th></th>\n",
       "      <th>ApplicantIncome</th>\n",
       "      <th>CoapplicantIncome</th>\n",
       "      <th>Credit_History</th>\n",
       "      <th>Dependents</th>\n",
       "      <th>Education</th>\n",
       "      <th>Gender</th>\n",
       "      <th>LoanAmount</th>\n",
       "      <th>Loan_Amount_Term</th>\n",
       "      <th>Loan_ID</th>\n",
       "      <th>Loan_Status</th>\n",
       "      <th>Married</th>\n",
       "      <th>Property_Area</th>\n",
       "      <th>Self_Employed</th>\n",
       "      <th>source</th>\n",
       "    </tr>\n",
       "  </thead>\n",
       "  <tbody>\n",
       "    <tr>\n",
       "      <th>0</th>\n",
       "      <td>5849</td>\n",
       "      <td>0.0</td>\n",
       "      <td>1.0</td>\n",
       "      <td>0.0</td>\n",
       "      <td>1.0</td>\n",
       "      <td>1.0</td>\n",
       "      <td>142.51153</td>\n",
       "      <td>360.0</td>\n",
       "      <td>LP001002</td>\n",
       "      <td>Y</td>\n",
       "      <td>0.0</td>\n",
       "      <td>Urban</td>\n",
       "      <td>0.0</td>\n",
       "      <td>train</td>\n",
       "    </tr>\n",
       "    <tr>\n",
       "      <th>1</th>\n",
       "      <td>4583</td>\n",
       "      <td>1508.0</td>\n",
       "      <td>1.0</td>\n",
       "      <td>1.0</td>\n",
       "      <td>1.0</td>\n",
       "      <td>1.0</td>\n",
       "      <td>128.00000</td>\n",
       "      <td>360.0</td>\n",
       "      <td>LP001003</td>\n",
       "      <td>N</td>\n",
       "      <td>1.0</td>\n",
       "      <td>Rural</td>\n",
       "      <td>0.0</td>\n",
       "      <td>train</td>\n",
       "    </tr>\n",
       "    <tr>\n",
       "      <th>2</th>\n",
       "      <td>3000</td>\n",
       "      <td>0.0</td>\n",
       "      <td>1.0</td>\n",
       "      <td>0.0</td>\n",
       "      <td>1.0</td>\n",
       "      <td>1.0</td>\n",
       "      <td>66.00000</td>\n",
       "      <td>360.0</td>\n",
       "      <td>LP001005</td>\n",
       "      <td>Y</td>\n",
       "      <td>1.0</td>\n",
       "      <td>Urban</td>\n",
       "      <td>1.0</td>\n",
       "      <td>train</td>\n",
       "    </tr>\n",
       "    <tr>\n",
       "      <th>3</th>\n",
       "      <td>2583</td>\n",
       "      <td>2358.0</td>\n",
       "      <td>1.0</td>\n",
       "      <td>0.0</td>\n",
       "      <td>0.0</td>\n",
       "      <td>1.0</td>\n",
       "      <td>120.00000</td>\n",
       "      <td>360.0</td>\n",
       "      <td>LP001006</td>\n",
       "      <td>Y</td>\n",
       "      <td>1.0</td>\n",
       "      <td>Urban</td>\n",
       "      <td>0.0</td>\n",
       "      <td>train</td>\n",
       "    </tr>\n",
       "    <tr>\n",
       "      <th>4</th>\n",
       "      <td>6000</td>\n",
       "      <td>0.0</td>\n",
       "      <td>1.0</td>\n",
       "      <td>0.0</td>\n",
       "      <td>1.0</td>\n",
       "      <td>1.0</td>\n",
       "      <td>141.00000</td>\n",
       "      <td>360.0</td>\n",
       "      <td>LP001008</td>\n",
       "      <td>Y</td>\n",
       "      <td>0.0</td>\n",
       "      <td>Urban</td>\n",
       "      <td>0.0</td>\n",
       "      <td>train</td>\n",
       "    </tr>\n",
       "  </tbody>\n",
       "</table>\n",
       "</div>"
      ],
      "text/plain": [
       "   ApplicantIncome  CoapplicantIncome  Credit_History  Dependents  Education  \\\n",
       "0             5849                0.0             1.0         0.0        1.0   \n",
       "1             4583             1508.0             1.0         1.0        1.0   \n",
       "2             3000                0.0             1.0         0.0        1.0   \n",
       "3             2583             2358.0             1.0         0.0        0.0   \n",
       "4             6000                0.0             1.0         0.0        1.0   \n",
       "\n",
       "   Gender  LoanAmount  Loan_Amount_Term   Loan_ID Loan_Status  Married  \\\n",
       "0     1.0   142.51153             360.0  LP001002           Y      0.0   \n",
       "1     1.0   128.00000             360.0  LP001003           N      1.0   \n",
       "2     1.0    66.00000             360.0  LP001005           Y      1.0   \n",
       "3     1.0   120.00000             360.0  LP001006           Y      1.0   \n",
       "4     1.0   141.00000             360.0  LP001008           Y      0.0   \n",
       "\n",
       "  Property_Area  Self_Employed source  \n",
       "0         Urban            0.0  train  \n",
       "1         Rural            0.0  train  \n",
       "2         Urban            1.0  train  \n",
       "3         Urban            0.0  train  \n",
       "4         Urban            0.0  train  "
      ]
     },
     "execution_count": 15,
     "metadata": {},
     "output_type": "execute_result"
    }
   ],
   "source": [
    "dataf.head()"
   ]
  },
  {
   "cell_type": "code",
   "execution_count": 16,
   "metadata": {
    "collapsed": true
   },
   "outputs": [],
   "source": [
    "#dataf = pd.concat([dataf, pd.get_dummies(dataf['source'])], axis=1);"
   ]
  },
  {
   "cell_type": "code",
   "execution_count": 17,
   "metadata": {
    "collapsed": true
   },
   "outputs": [],
   "source": [
    "dataf.drop(['source','Property_Area'],axis=1,inplace=True)"
   ]
  },
  {
   "cell_type": "code",
   "execution_count": 18,
   "metadata": {
    "scrolled": true
   },
   "outputs": [
    {
     "name": "stdout",
     "output_type": "stream",
     "text": [
      "<class 'pandas.core.frame.DataFrame'>\n",
      "Int64Index: 981 entries, 0 to 366\n",
      "Data columns (total 12 columns):\n",
      "ApplicantIncome      981 non-null int64\n",
      "CoapplicantIncome    981 non-null float64\n",
      "Credit_History       981 non-null float64\n",
      "Dependents           981 non-null float64\n",
      "Education            981 non-null float64\n",
      "Gender               981 non-null float64\n",
      "LoanAmount           981 non-null float64\n",
      "Loan_Amount_Term     981 non-null float64\n",
      "Loan_ID              981 non-null object\n",
      "Loan_Status          981 non-null object\n",
      "Married              981 non-null float64\n",
      "Self_Employed        981 non-null float64\n",
      "dtypes: float64(9), int64(1), object(2)\n",
      "memory usage: 99.6+ KB\n"
     ]
    }
   ],
   "source": [
    "dataf.info()"
   ]
  },
  {
   "cell_type": "code",
   "execution_count": 19,
   "metadata": {
    "collapsed": true
   },
   "outputs": [],
   "source": [
    "dataf=dataf.set_index('Loan_ID').reset_index()"
   ]
  },
  {
   "cell_type": "code",
   "execution_count": 20,
   "metadata": {
    "scrolled": true
   },
   "outputs": [
    {
     "data": {
      "text/html": [
       "<div>\n",
       "<style>\n",
       "    .dataframe thead tr:only-child th {\n",
       "        text-align: right;\n",
       "    }\n",
       "\n",
       "    .dataframe thead th {\n",
       "        text-align: left;\n",
       "    }\n",
       "\n",
       "    .dataframe tbody tr th {\n",
       "        vertical-align: top;\n",
       "    }\n",
       "</style>\n",
       "<table border=\"1\" class=\"dataframe\">\n",
       "  <thead>\n",
       "    <tr style=\"text-align: right;\">\n",
       "      <th></th>\n",
       "      <th>Loan_ID</th>\n",
       "      <th>ApplicantIncome</th>\n",
       "      <th>CoapplicantIncome</th>\n",
       "      <th>Credit_History</th>\n",
       "      <th>Dependents</th>\n",
       "      <th>Education</th>\n",
       "      <th>Gender</th>\n",
       "      <th>LoanAmount</th>\n",
       "      <th>Loan_Amount_Term</th>\n",
       "      <th>Loan_Status</th>\n",
       "      <th>Married</th>\n",
       "      <th>Self_Employed</th>\n",
       "    </tr>\n",
       "  </thead>\n",
       "  <tbody>\n",
       "    <tr>\n",
       "      <th>0</th>\n",
       "      <td>LP001002</td>\n",
       "      <td>5849</td>\n",
       "      <td>0.0</td>\n",
       "      <td>1.0</td>\n",
       "      <td>0.0</td>\n",
       "      <td>1.0</td>\n",
       "      <td>1.0</td>\n",
       "      <td>142.51153</td>\n",
       "      <td>360.0</td>\n",
       "      <td>Y</td>\n",
       "      <td>0.0</td>\n",
       "      <td>0.0</td>\n",
       "    </tr>\n",
       "    <tr>\n",
       "      <th>1</th>\n",
       "      <td>LP001003</td>\n",
       "      <td>4583</td>\n",
       "      <td>1508.0</td>\n",
       "      <td>1.0</td>\n",
       "      <td>1.0</td>\n",
       "      <td>1.0</td>\n",
       "      <td>1.0</td>\n",
       "      <td>128.00000</td>\n",
       "      <td>360.0</td>\n",
       "      <td>N</td>\n",
       "      <td>1.0</td>\n",
       "      <td>0.0</td>\n",
       "    </tr>\n",
       "    <tr>\n",
       "      <th>2</th>\n",
       "      <td>LP001005</td>\n",
       "      <td>3000</td>\n",
       "      <td>0.0</td>\n",
       "      <td>1.0</td>\n",
       "      <td>0.0</td>\n",
       "      <td>1.0</td>\n",
       "      <td>1.0</td>\n",
       "      <td>66.00000</td>\n",
       "      <td>360.0</td>\n",
       "      <td>Y</td>\n",
       "      <td>1.0</td>\n",
       "      <td>1.0</td>\n",
       "    </tr>\n",
       "    <tr>\n",
       "      <th>3</th>\n",
       "      <td>LP001006</td>\n",
       "      <td>2583</td>\n",
       "      <td>2358.0</td>\n",
       "      <td>1.0</td>\n",
       "      <td>0.0</td>\n",
       "      <td>0.0</td>\n",
       "      <td>1.0</td>\n",
       "      <td>120.00000</td>\n",
       "      <td>360.0</td>\n",
       "      <td>Y</td>\n",
       "      <td>1.0</td>\n",
       "      <td>0.0</td>\n",
       "    </tr>\n",
       "    <tr>\n",
       "      <th>4</th>\n",
       "      <td>LP001008</td>\n",
       "      <td>6000</td>\n",
       "      <td>0.0</td>\n",
       "      <td>1.0</td>\n",
       "      <td>0.0</td>\n",
       "      <td>1.0</td>\n",
       "      <td>1.0</td>\n",
       "      <td>141.00000</td>\n",
       "      <td>360.0</td>\n",
       "      <td>Y</td>\n",
       "      <td>0.0</td>\n",
       "      <td>0.0</td>\n",
       "    </tr>\n",
       "  </tbody>\n",
       "</table>\n",
       "</div>"
      ],
      "text/plain": [
       "    Loan_ID  ApplicantIncome  CoapplicantIncome  Credit_History  Dependents  \\\n",
       "0  LP001002             5849                0.0             1.0         0.0   \n",
       "1  LP001003             4583             1508.0             1.0         1.0   \n",
       "2  LP001005             3000                0.0             1.0         0.0   \n",
       "3  LP001006             2583             2358.0             1.0         0.0   \n",
       "4  LP001008             6000                0.0             1.0         0.0   \n",
       "\n",
       "   Education  Gender  LoanAmount  Loan_Amount_Term Loan_Status  Married  \\\n",
       "0        1.0     1.0   142.51153             360.0           Y      0.0   \n",
       "1        1.0     1.0   128.00000             360.0           N      1.0   \n",
       "2        1.0     1.0    66.00000             360.0           Y      1.0   \n",
       "3        0.0     1.0   120.00000             360.0           Y      1.0   \n",
       "4        1.0     1.0   141.00000             360.0           Y      0.0   \n",
       "\n",
       "   Self_Employed  \n",
       "0            0.0  \n",
       "1            0.0  \n",
       "2            1.0  \n",
       "3            0.0  \n",
       "4            0.0  "
      ]
     },
     "execution_count": 20,
     "metadata": {},
     "output_type": "execute_result"
    }
   ],
   "source": [
    "dataf.head()"
   ]
  },
  {
   "cell_type": "code",
   "execution_count": 21,
   "metadata": {
    "collapsed": true
   },
   "outputs": [],
   "source": [
    "X,y  = dataf.drop(['Loan_Status','Loan_ID'],axis=1), dataf['Loan_Status']"
   ]
  },
  {
   "cell_type": "code",
   "execution_count": 22,
   "metadata": {
    "scrolled": true
   },
   "outputs": [
    {
     "data": {
      "text/plain": [
       "Index(['ApplicantIncome', 'CoapplicantIncome', 'Credit_History', 'Dependents',\n",
       "       'Education', 'Gender', 'LoanAmount', 'Loan_Amount_Term', 'Married',\n",
       "       'Self_Employed'],\n",
       "      dtype='object')"
      ]
     },
     "execution_count": 22,
     "metadata": {},
     "output_type": "execute_result"
    }
   ],
   "source": [
    "X.columns"
   ]
  },
  {
   "cell_type": "code",
   "execution_count": 23,
   "metadata": {
    "scrolled": false
   },
   "outputs": [
    {
     "data": {
      "text/plain": [
       "0    Y\n",
       "1    N\n",
       "2    Y\n",
       "3    Y\n",
       "4    Y\n",
       "Name: Loan_Status, dtype: object"
      ]
     },
     "execution_count": 23,
     "metadata": {},
     "output_type": "execute_result"
    }
   ],
   "source": [
    "y.head()"
   ]
  },
  {
   "cell_type": "code",
   "execution_count": 26,
   "metadata": {
    "scrolled": true
   },
   "outputs": [
    {
     "data": {
      "text/plain": [
       "<matplotlib.axes._subplots.AxesSubplot at 0xbb92eb8>"
      ]
     },
     "execution_count": 26,
     "metadata": {},
     "output_type": "execute_result"
    },
    {
     "data": {
      "image/png": "[encoded data removed]",
      "text/plain": [
       "<matplotlib.figure.Figure at 0xbac2048>"
      ]
     },
     "metadata": {},
     "output_type": "display_data"
    }
   ],
   "source": [
    "import matplotlib.pyplot as plt\n",
    "import seaborn as sns\n",
    "%matplotlib inline\n",
    "sns.countplot(data=dataf, x = 'Loan_Status', label='Count')"
   ]
  },
  {
   "cell_type": "code",
   "execution_count": 27,
   "metadata": {
    "scrolled": true
   },
   "outputs": [
    {
     "data": {
      "text/html": [
       "<div>\n",
       "<style>\n",
       "    .dataframe thead tr:only-child th {\n",
       "        text-align: right;\n",
       "    }\n",
       "\n",
       "    .dataframe thead th {\n",
       "        text-align: left;\n",
       "    }\n",
       "\n",
       "    .dataframe tbody tr th {\n",
       "        vertical-align: top;\n",
       "    }\n",
       "</style>\n",
       "<table border=\"1\" class=\"dataframe\">\n",
       "  <thead>\n",
       "    <tr style=\"text-align: right;\">\n",
       "      <th></th>\n",
       "      <th>ApplicantIncome</th>\n",
       "      <th>CoapplicantIncome</th>\n",
       "      <th>Credit_History</th>\n",
       "      <th>Dependents</th>\n",
       "      <th>Education</th>\n",
       "      <th>Gender</th>\n",
       "      <th>LoanAmount</th>\n",
       "      <th>Loan_Amount_Term</th>\n",
       "      <th>Married</th>\n",
       "      <th>Self_Employed</th>\n",
       "    </tr>\n",
       "  </thead>\n",
       "  <tbody>\n",
       "    <tr>\n",
       "      <th>ApplicantIncome</th>\n",
       "      <td>1.000000</td>\n",
       "      <td>-0.114247</td>\n",
       "      <td>0.020201</td>\n",
       "      <td>0.122136</td>\n",
       "      <td>0.138909</td>\n",
       "      <td>0.060444</td>\n",
       "      <td>0.547188</td>\n",
       "      <td>-0.023823</td>\n",
       "      <td>0.052126</td>\n",
       "      <td>0.113106</td>\n",
       "    </tr>\n",
       "    <tr>\n",
       "      <th>CoapplicantIncome</th>\n",
       "      <td>-0.114247</td>\n",
       "      <td>1.000000</td>\n",
       "      <td>-0.011531</td>\n",
       "      <td>0.003223</td>\n",
       "      <td>0.060380</td>\n",
       "      <td>0.082428</td>\n",
       "      <td>0.178449</td>\n",
       "      <td>-0.042750</td>\n",
       "      <td>0.061606</td>\n",
       "      <td>-0.018861</td>\n",
       "    </tr>\n",
       "    <tr>\n",
       "      <th>Credit_History</th>\n",
       "      <td>0.020201</td>\n",
       "      <td>-0.011531</td>\n",
       "      <td>1.000000</td>\n",
       "      <td>-0.045335</td>\n",
       "      <td>0.062416</td>\n",
       "      <td>0.018627</td>\n",
       "      <td>-0.003577</td>\n",
       "      <td>-0.021495</td>\n",
       "      <td>0.021738</td>\n",
       "      <td>0.034485</td>\n",
       "    </tr>\n",
       "    <tr>\n",
       "      <th>Dependents</th>\n",
       "      <td>0.122136</td>\n",
       "      <td>0.003223</td>\n",
       "      <td>-0.045335</td>\n",
       "      <td>1.000000</td>\n",
       "      <td>-0.084894</td>\n",
       "      <td>0.139248</td>\n",
       "      <td>0.149233</td>\n",
       "      <td>-0.084190</td>\n",
       "      <td>0.344291</td>\n",
       "      <td>0.026241</td>\n",
       "    </tr>\n",
       "    <tr>\n",
       "      <th>Education</th>\n",
       "      <td>0.138909</td>\n",
       "      <td>0.060380</td>\n",
       "      <td>0.062416</td>\n",
       "      <td>-0.084894</td>\n",
       "      <td>1.000000</td>\n",
       "      <td>-0.040649</td>\n",
       "      <td>0.162215</td>\n",
       "      <td>0.021575</td>\n",
       "      <td>-0.026211</td>\n",
       "      <td>0.010848</td>\n",
       "    </tr>\n",
       "    <tr>\n",
       "      <th>Gender</th>\n",
       "      <td>0.060444</td>\n",
       "      <td>0.082428</td>\n",
       "      <td>0.018627</td>\n",
       "      <td>0.139248</td>\n",
       "      <td>-0.040649</td>\n",
       "      <td>1.000000</td>\n",
       "      <td>0.096499</td>\n",
       "      <td>-0.069058</td>\n",
       "      <td>0.327012</td>\n",
       "      <td>0.024719</td>\n",
       "    </tr>\n",
       "    <tr>\n",
       "      <th>LoanAmount</th>\n",
       "      <td>0.547188</td>\n",
       "      <td>0.178449</td>\n",
       "      <td>-0.003577</td>\n",
       "      <td>0.149233</td>\n",
       "      <td>0.162215</td>\n",
       "      <td>0.096499</td>\n",
       "      <td>1.000000</td>\n",
       "      <td>0.053187</td>\n",
       "      <td>0.156737</td>\n",
       "      <td>0.106942</td>\n",
       "    </tr>\n",
       "    <tr>\n",
       "      <th>Loan_Amount_Term</th>\n",
       "      <td>-0.023823</td>\n",
       "      <td>-0.042750</td>\n",
       "      <td>-0.021495</td>\n",
       "      <td>-0.084190</td>\n",
       "      <td>0.021575</td>\n",
       "      <td>-0.069058</td>\n",
       "      <td>0.053187</td>\n",
       "      <td>1.000000</td>\n",
       "      <td>-0.047505</td>\n",
       "      <td>-0.031451</td>\n",
       "    </tr>\n",
       "    <tr>\n",
       "      <th>Married</th>\n",
       "      <td>0.052126</td>\n",
       "      <td>0.061606</td>\n",
       "      <td>0.021738</td>\n",
       "      <td>0.344291</td>\n",
       "      <td>-0.026211</td>\n",
       "      <td>0.327012</td>\n",
       "      <td>0.156737</td>\n",
       "      <td>-0.047505</td>\n",
       "      <td>1.000000</td>\n",
       "      <td>0.013666</td>\n",
       "    </tr>\n",
       "    <tr>\n",
       "      <th>Self_Employed</th>\n",
       "      <td>0.113106</td>\n",
       "      <td>-0.018861</td>\n",
       "      <td>0.034485</td>\n",
       "      <td>0.026241</td>\n",
       "      <td>0.010848</td>\n",
       "      <td>0.024719</td>\n",
       "      <td>0.106942</td>\n",
       "      <td>-0.031451</td>\n",
       "      <td>0.013666</td>\n",
       "      <td>1.000000</td>\n",
       "    </tr>\n",
       "  </tbody>\n",
       "</table>\n",
       "</div>"
      ],
      "text/plain": [
       "                   ApplicantIncome  CoapplicantIncome  Credit_History  \\\n",
       "ApplicantIncome           1.000000          -0.114247        0.020201   \n",
       "CoapplicantIncome        -0.114247           1.000000       -0.011531   \n",
       "Credit_History            0.020201          -0.011531        1.000000   \n",
       "Dependents                0.122136           0.003223       -0.045335   \n",
       "Education                 0.138909           0.060380        0.062416   \n",
       "Gender                    0.060444           0.082428        0.018627   \n",
       "LoanAmount                0.547188           0.178449       -0.003577   \n",
       "Loan_Amount_Term         -0.023823          -0.042750       -0.021495   \n",
       "Married                   0.052126           0.061606        0.021738   \n",
       "Self_Employed             0.113106          -0.018861        0.034485   \n",
       "\n",
       "                   Dependents  Education    Gender  LoanAmount  \\\n",
       "ApplicantIncome      0.122136   0.138909  0.060444    0.547188   \n",
       "CoapplicantIncome    0.003223   0.060380  0.082428    0.178449   \n",
       "Credit_History      -0.045335   0.062416  0.018627   -0.003577   \n",
       "Dependents           1.000000  -0.084894  0.139248    0.149233   \n",
       "Education           -0.084894   1.000000 -0.040649    0.162215   \n",
       "Gender               0.139248  -0.040649  1.000000    0.096499   \n",
       "LoanAmount           0.149233   0.162215  0.096499    1.000000   \n",
       "Loan_Amount_Term    -0.084190   0.021575 -0.069058    0.053187   \n",
       "Married              0.344291  -0.026211  0.327012    0.156737   \n",
       "Self_Employed        0.026241   0.010848  0.024719    0.106942   \n",
       "\n",
       "                   Loan_Amount_Term   Married  Self_Employed  \n",
       "ApplicantIncome           -0.023823  0.052126       0.113106  \n",
       "CoapplicantIncome         -0.042750  0.061606      -0.018861  \n",
       "Credit_History            -0.021495  0.021738       0.034485  \n",
       "Dependents                -0.084190  0.344291       0.026241  \n",
       "Education                  0.021575 -0.026211       0.010848  \n",
       "Gender                    -0.069058  0.327012       0.024719  \n",
       "LoanAmount                 0.053187  0.156737       0.106942  \n",
       "Loan_Amount_Term           1.000000 -0.047505      -0.031451  \n",
       "Married                   -0.047505  1.000000       0.013666  \n",
       "Self_Employed             -0.031451  0.013666       1.000000  "
      ]
     },
     "execution_count": 27,
     "metadata": {},
     "output_type": "execute_result"
    }
   ],
   "source": [
    "# Correlation\n",
    "Loan_Corr = dataf.corr()\n",
    "Loan_Corr"
   ]
  },
  {
   "cell_type": "code",
   "execution_count": 29,
   "metadata": {
    "scrolled": true
   },
   "outputs": [
    {
     "data": {
      "image/png": "[encoded data removed]",
      "text/plain": [
       "<matplotlib.figure.Figure at 0x9b4c6d8>"
      ]
     },
     "metadata": {},
     "output_type": "display_data"
    }
   ],
   "source": [
    "plt.figure(figsize=(15, 15))\n",
    "sns.heatmap(Loan_Corr, cbar = True,  square = True, annot=True, fmt= '.2f',annot_kws={'size': 10},\n",
    "           cmap= 'coolwarm')\n",
    "plt.title('Correlation between features');"
   ]
  },
  {
   "cell_type": "code",
   "execution_count": 34,
   "metadata": {
    "collapsed": true
   },
   "outputs": [],
   "source": [
    "from sklearn.metrics import accuracy_score\n",
    "from sklearn.metrics import confusion_matrix\n",
    "from sklearn.metrics import classification_report\n",
    "from sklearn.metrics import average_precision_score\n",
    "\n",
    "def processResults(clk, str=\"\", X_test = X_test, X_train = X_train, Y_test = Y_test, Y_train = Y_train):\n",
    "    predicted = clk.predict(X_test)\n",
    "    score = round(clk.score(X_train, Y_train) * 100, 2)\n",
    "    score_test = round(clk.score(X_test, Y_test) * 100, 2)\n",
    "\n",
    "    print(str + 'Training score: \\n', score)\n",
    "    print(str + 'Test Score: \\n', score_test)\n",
    "    print('Accuracy: \\n', accuracy_score(Y_test,predicted))\n",
    "    print(confusion_matrix(Y_test,predicted))\n",
    "    print(classification_report(Y_test,predicted))\n",
    "    sns.heatmap(confusion_matrix(Y_test,predicted),annot=True,fmt=\"d\")\n",
    "    return score, score_test"
   ]
  },
  {
   "cell_type": "code",
   "execution_count": 35,
   "metadata": {},
   "outputs": [
    {
     "name": "stdout",
     "output_type": "stream",
     "text": [
      "Logistic Regression Training score: \n",
      " 81.34\n",
      "Logistic Regression Test Score: \n",
      " 82.71\n",
      "Accuracy: \n",
      " 0.827118644068\n",
      "[[ 12  42]\n",
      " [  9 232]]\n",
      "             precision    recall  f1-score   support\n",
      "\n",
      "          N       0.57      0.22      0.32        54\n",
      "          Y       0.85      0.96      0.90       241\n",
      "\n",
      "avg / total       0.80      0.83      0.79       295\n",
      "\n",
      "Coefficient: \n",
      " [[ -1.39463002e-05  -6.95097756e-05   2.09374649e+00   1.05457420e-01\n",
      "    5.60511157e-01  -2.40964090e-02  -1.98689288e-03  -1.63594061e-03\n",
      "    3.45106212e-01  -2.85616228e-01]]\n",
      "Intercept: \n",
      " [ 0.1800802]\n"
     ]
    },
    {
     "data": {
      "image/png": "[encoded data removed]",
      "text/plain": [
       "<matplotlib.figure.Figure at 0xc53dd30>"
      ]
     },
     "metadata": {},
     "output_type": "display_data"
    }
   ],
   "source": [
    "from sklearn.linear_model import LogisticRegression\n",
    "\n",
    "#2) Logistic Regression\n",
    "# Create logistic regression object\n",
    "logreg = LogisticRegression()\n",
    "# Train the model using the training sets and check score\n",
    "logreg.fit(X_train, Y_train)\n",
    "\n",
    "logreg_score, logreg_score_test = processResults(logreg, \"Logistic Regression \")\n",
    "\n",
    "print('Coefficient: \\n', logreg.coef_)\n",
    "print('Intercept: \\n', logreg.intercept_)"
   ]
  },
  {
   "cell_type": "code",
   "execution_count": 37,
   "metadata": {
    "scrolled": true
   },
   "outputs": [
    {
     "name": "stdout",
     "output_type": "stream",
     "text": [
      "Gaussian Naive Bayesian Training score: \n",
      " 82.51\n",
      "Gaussian Naive Bayesian Test Score: \n",
      " 78.31\n",
      "Accuracy: \n",
      " 0.783050847458\n",
      "[[ 16  38]\n",
      " [ 26 215]]\n",
      "             precision    recall  f1-score   support\n",
      "\n",
      "          N       0.38      0.30      0.33        54\n",
      "          Y       0.85      0.89      0.87       241\n",
      "\n",
      "avg / total       0.76      0.78      0.77       295\n",
      "\n"
     ]
    },
    {
     "data": {
      "image/png": "[encoded data removed]",
      "text/plain": [
       "<matplotlib.figure.Figure at 0xc63f7b8>"
      ]
     },
     "metadata": {},
     "output_type": "display_data"
    }
   ],
   "source": [
    "# Gaussian Naive Bayes\n",
    "from sklearn.naive_bayes import GaussianNB\n",
    "\n",
    "gaussian = GaussianNB()\n",
    "gaussian.fit(X_train, Y_train)\n",
    "gauss_score, gauss_score_test = processResults(gaussian, \"Gaussian Naive Bayesian \")"
   ]
  },
  {
   "cell_type": "code",
   "execution_count": 40,
   "metadata": {},
   "outputs": [
    {
     "name": "stdout",
     "output_type": "stream",
     "text": [
      "Decision Tree Training score: \n",
      " 83.67\n",
      "Decision Tree Test Score: \n",
      " 80.0\n",
      "Accuracy: \n",
      " 0.8\n",
      "[[ 14  40]\n",
      " [ 19 222]]\n",
      "             precision    recall  f1-score   support\n",
      "\n",
      "          N       0.42      0.26      0.32        54\n",
      "          Y       0.85      0.92      0.88       241\n",
      "\n",
      "avg / total       0.77      0.80      0.78       295\n",
      "\n"
     ]
    },
    {
     "data": {
      "image/png": "[encoded data removed]",
      "text/plain": [
       "<matplotlib.figure.Figure at 0xcb0bcc0>"
      ]
     },
     "metadata": {},
     "output_type": "display_data"
    }
   ],
   "source": [
    "# Decision tree\n",
    "from sklearn.tree import DecisionTreeClassifier\n",
    "decision_tree = DecisionTreeClassifier(criterion = \"gini\", random_state = 100,\n",
    "                               max_depth=3, min_samples_leaf=5)\n",
    "decision_tree.fit(X_train, Y_train)\n",
    "decision_tree_score, decision_tree_score_test  = processResults(decision_tree, \"Decision Tree \")"
   ]
  },
  {
   "cell_type": "code",
   "execution_count": 41,
   "metadata": {
    "scrolled": true
   },
   "outputs": [
    {
     "name": "stdout",
     "output_type": "stream",
     "text": [
      "Random Forest Training score: \n",
      " 100.0\n",
      "Random Forest Test Score: \n",
      " 81.02\n",
      "Accuracy: \n",
      " 0.810169491525\n",
      "[[ 12  42]\n",
      " [ 14 227]]\n",
      "             precision    recall  f1-score   support\n",
      "\n",
      "          N       0.46      0.22      0.30        54\n",
      "          Y       0.84      0.94      0.89       241\n",
      "\n",
      "avg / total       0.77      0.81      0.78       295\n",
      "\n"
     ]
    },
    {
     "data": {
      "image/png": "[encoded data removed]",
      "text/plain": [
       "<matplotlib.figure.Figure at 0xce89390>"
      ]
     },
     "metadata": {},
     "output_type": "display_data"
    }
   ],
   "source": [
    "from sklearn.ensemble import RandomForestClassifier\n",
    "\n",
    "random_forest = RandomForestClassifier(n_estimators=100, random_state=42)\n",
    "random_forest.fit(X_train, Y_train)\n",
    "\n",
    "random_forest_score, random_forest_score_test  = processResults(random_forest, \"Random Forest \")"
   ]
  },
  {
   "cell_type": "code",
   "execution_count": 42,
   "metadata": {
    "scrolled": false
   },
   "outputs": [
    {
     "name": "stdout",
     "output_type": "stream",
     "text": [
      "Training score: \n",
      " 86.15\n",
      "Test Score: \n",
      " 81.02\n",
      "Accuracy: \n",
      " 0.810169491525\n",
      "[[ 12  42]\n",
      " [ 14 227]]\n",
      "             precision    recall  f1-score   support\n",
      "\n",
      "          N       0.46      0.22      0.30        54\n",
      "          Y       0.84      0.94      0.89       241\n",
      "\n",
      "avg / total       0.77      0.81      0.78       295\n",
      "\n"
     ]
    },
    {
     "data": {
      "image/png": "[encoded data removed]",
      "text/plain": [
       "<matplotlib.figure.Figure at 0xd389780>"
      ]
     },
     "metadata": {},
     "output_type": "display_data"
    }
   ],
   "source": [
    "from sklearn.svm import SVC\n",
    "from sklearn.preprocessing import StandardScaler\n",
    "from sklearn.decomposition import PCA\n",
    "from sklearn.pipeline import Pipeline\n",
    "\n",
    "pipe = Pipeline([\n",
    "    ('scale', StandardScaler()),    \n",
    "    ('pca', PCA(n_components=8)),\n",
    "    ('svc', SVC()),\n",
    "])\n",
    "pipe.fit(X_train, Y_train)\n",
    "svcScore, svcScore_test = processResults(pipe)"
   ]
  },
  {
   "cell_type": "code",
   "execution_count": 44,
   "metadata": {},
   "outputs": [
    {
     "name": "stdout",
     "output_type": "stream",
     "text": [
      "Training score: \n",
      " 84.84\n",
      "Test Score: \n",
      " 80.68\n",
      "Accuracy: \n",
      " 0.806779661017\n",
      "[[ 13  41]\n",
      " [ 16 225]]\n",
      "             precision    recall  f1-score   support\n",
      "\n",
      "          N       0.45      0.24      0.31        54\n",
      "          Y       0.85      0.93      0.89       241\n",
      "\n",
      "avg / total       0.77      0.81      0.78       295\n",
      "\n"
     ]
    },
    {
     "data": {
      "image/png": "[encoded data removed]",
      "text/plain": [
       "<matplotlib.figure.Figure at 0xd3895c0>"
      ]
     },
     "metadata": {},
     "output_type": "display_data"
    }
   ],
   "source": [
    "from sklearn.neighbors import KNeighborsClassifier\n",
    "\n",
    "pipeknn = Pipeline([\n",
    "    ('scale', StandardScaler()),    \n",
    "    ('knn', KNeighborsClassifier(n_neighbors=5)),\n",
    "])\n",
    "pipeknn.fit(X_train, Y_train)\n",
    "knnTrainScore, knnTestScore = processResults(pipeknn)"
   ]
  },
  {
   "cell_type": "code",
   "execution_count": 45,
   "metadata": {},
   "outputs": [
    {
     "data": {
      "text/html": [
       "<div>\n",
       "<style>\n",
       "    .dataframe thead tr:only-child th {\n",
       "        text-align: right;\n",
       "    }\n",
       "\n",
       "    .dataframe thead th {\n",
       "        text-align: left;\n",
       "    }\n",
       "\n",
       "    .dataframe tbody tr th {\n",
       "        vertical-align: top;\n",
       "    }\n",
       "</style>\n",
       "<table border=\"1\" class=\"dataframe\">\n",
       "  <thead>\n",
       "    <tr style=\"text-align: right;\">\n",
       "      <th></th>\n",
       "      <th>Model</th>\n",
       "      <th>Score</th>\n",
       "      <th>Test Score</th>\n",
       "    </tr>\n",
       "  </thead>\n",
       "  <tbody>\n",
       "    <tr>\n",
       "      <th>0</th>\n",
       "      <td>Logistic Regression</td>\n",
       "      <td>81.34</td>\n",
       "      <td>82.71</td>\n",
       "    </tr>\n",
       "    <tr>\n",
       "      <th>3</th>\n",
       "      <td>Random Forest</td>\n",
       "      <td>100.00</td>\n",
       "      <td>81.02</td>\n",
       "    </tr>\n",
       "    <tr>\n",
       "      <th>4</th>\n",
       "      <td>Support Vector Classifier</td>\n",
       "      <td>86.15</td>\n",
       "      <td>81.02</td>\n",
       "    </tr>\n",
       "    <tr>\n",
       "      <th>5</th>\n",
       "      <td>Nearest Neighbour</td>\n",
       "      <td>84.84</td>\n",
       "      <td>80.68</td>\n",
       "    </tr>\n",
       "    <tr>\n",
       "      <th>2</th>\n",
       "      <td>Decision Tree</td>\n",
       "      <td>83.67</td>\n",
       "      <td>80.00</td>\n",
       "    </tr>\n",
       "    <tr>\n",
       "      <th>1</th>\n",
       "      <td>Gaussian Naive Bayes</td>\n",
       "      <td>82.51</td>\n",
       "      <td>78.31</td>\n",
       "    </tr>\n",
       "  </tbody>\n",
       "</table>\n",
       "</div>"
      ],
      "text/plain": [
       "                       Model   Score  Test Score\n",
       "0        Logistic Regression   81.34       82.71\n",
       "3              Random Forest  100.00       81.02\n",
       "4  Support Vector Classifier   86.15       81.02\n",
       "5          Nearest Neighbour   84.84       80.68\n",
       "2              Decision Tree   83.67       80.00\n",
       "1       Gaussian Naive Bayes   82.51       78.31"
      ]
     },
     "execution_count": 45,
     "metadata": {},
     "output_type": "execute_result"
    }
   ],
   "source": [
    "models = pd.DataFrame({\n",
    "    'Model': [ 'Logistic Regression', 'Gaussian Naive Bayes','Decision Tree', 'Random Forest', 'Support Vector Classifier', 'Nearest Neighbour'],\n",
    "    'Score': [ logreg_score, gauss_score, decision_tree_score, random_forest_score, svcScore, knnTrainScore],\n",
    "    'Test Score': [ logreg_score_test, gauss_score_test, decision_tree_score_test, random_forest_score_test, svcScore_test, knnTestScore]})\n",
    "models.sort_values(by='Test Score', ascending=False)"
   ]
  },
  {
   "cell_type": "code",
   "execution_count": null,
   "metadata": {
    "collapsed": true
   },
   "outputs": [],
   "source": []
  },
  {
   "cell_type": "code",
   "execution_count": 192,
   "metadata": {
    "scrolled": false
   },
   "outputs": [
    {
     "data": {
      "text/plain": [
       "StandardScaler(copy=True, with_mean=True, with_std=True)"
      ]
     },
     "execution_count": 192,
     "metadata": {},
     "output_type": "execute_result"
    }
   ],
   "source": [
    "from sklearn.preprocessing import StandardScaler\n",
    "scaler=StandardScaler()\n",
    "scaler.fit(X_train)"
   ]
  },
  {
   "cell_type": "code",
   "execution_count": 195,
   "metadata": {},
   "outputs": [
    {
     "name": "stdout",
     "output_type": "stream",
     "text": [
      "10-fold cross validation average accuracy: 0.806\n"
     ]
    }
   ],
   "source": [
    "from sklearn import model_selection\n",
    "from sklearn.model_selection import cross_val_score\n",
    "kfold = model_selection.KFold(n_splits=10, random_state=10)\n",
    "modelCV = LogisticRegression()\n",
    "scoring = 'accuracy'\n",
    "results = model_selection.cross_val_score(modelCV, X_train, Y_train, cv=kfold, scoring=scoring)\n",
    "print(\"10-fold cross validation average accuracy: %.3f\" % (results.mean()))"
   ]
  },
  {
   "cell_type": "code",
   "execution_count": 141,
   "metadata": {
    "scrolled": true
   },
   "outputs": [
    {
     "data": {
      "text/plain": [
       "SelectFromModel(estimator=LogisticRegression(C=1, class_weight=None, dual=False, fit_intercept=True,\n",
       "          intercept_scaling=1, max_iter=100, multi_class='ovr', n_jobs=1,\n",
       "          penalty='l1', random_state=None, solver='liblinear', tol=0.0001,\n",
       "          verbose=0, warm_start=False),\n",
       "        norm_order=1, prefit=False, threshold=None)"
      ]
     },
     "execution_count": 141,
     "metadata": {},
     "output_type": "execute_result"
    }
   ],
   "source": [
    "from sklearn.linear_model import Lasso,LogisticRegression\n",
    "from sklearn.feature_selection import SelectFromModel\n",
    "sel=SelectFromModel(LogisticRegression(C=1,penalty='l1'))\n",
    "sel.fit(scaler.transform(X_train),Y_train)"
   ]
  },
  {
   "cell_type": "code",
   "execution_count": 142,
   "metadata": {},
   "outputs": [
    {
     "name": "stdout",
     "output_type": "stream",
     "text": [
      "Total features--> 10\n",
      "Selected featurs--> 10\n",
      "Removed featurs--> 0\n"
     ]
    }
   ],
   "source": [
    "print('Total features-->',X_train.shape[1])\n",
    "print('Selected featurs-->',sum(sel.get_support()))\n",
    "print('Removed featurs-->',np.sum(sel.estimator_.coef_==0))"
   ]
  },
  {
   "cell_type": "code",
   "execution_count": 138,
   "metadata": {
    "collapsed": true
   },
   "outputs": [],
   "source": [
    "from sklearn.ensemble import RandomForestClassifier\n",
    "def RandomForest(X_train, X_test, y_train, y_test):\n",
    "    rf = RandomForestClassifier(n_estimators=200, random_state=1, max_depth=4)\n",
    "    rf.fit(X_train, y_train)\n",
    "    print('Train set')\n",
    "    pred = rf.predict_proba(X_train)\n",
    "    print('Random Forests roc-auc: {}'.format(roc_auc_score(y_train, pred[:,1])))\n",
    "    print('Test set')\n",
    "    pred = rf.predict_proba(X_test)\n",
    "    print('Random Forests roc-auc: {}'.format(roc_auc_score(y_test, pred[:,1])))"
   ]
  },
  {
   "cell_type": "code",
   "execution_count": null,
   "metadata": {
    "collapsed": true
   },
   "outputs": [],
   "source": [
    "from sklearn.ensemble import AdaBoostClassifier\n",
    "from sklearn.tree import DecisionTreeClassifier\n",
    "\n",
    "tree = DecisionTreeClassifier(criterion='entropy',max_depth=1)\n",
    "ada = AdaBoostClassifier(base_estimator=tree, n_estimators=500, learning_rate=0.1, random_state=0)\n"
   ]
  }
 ],
 "metadata": {
  "kernelspec": {
   "display_name": "Python 3",
   "language": "python",
   "name": "python3"
  },
  "language_info": {
   "codemirror_mode": {
    "name": "ipython",
    "version": 3
   },
   "file_extension": ".py",
   "mimetype": "text/x-python",
   "name": "python",
   "nbconvert_exporter": "python",
   "pygments_lexer": "ipython3",
   "version": "3.6.3"
  }
 },
 "nbformat": 4,
 "nbformat_minor": 2
}
